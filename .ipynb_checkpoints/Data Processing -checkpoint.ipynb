{
 "cells": [
  {
   "cell_type": "markdown",
   "id": "6146d585-6a42-4a48-b68e-b64935cd6f1e",
   "metadata": {},
   "source": [
    "Based on (Dựa trên: https://www.kaggle.com/code/sudalairajkumar/getting-started-with-text-preprocessing) "
   ]
  },
  {
   "cell_type": "code",
   "execution_count": 2,
   "id": "2a07ff1c-4f6f-467a-ace3-30da12eaae26",
   "metadata": {},
   "outputs": [],
   "source": [
    "import numpy as np\n",
    "import pandas as pd\n",
    "import regex as re\n",
    "import pandas as pd\n",
    "import emoji_vietnamese as ev"
   ]
  },
  {
   "cell_type": "markdown",
   "id": "13cfad43-35c4-431b-9571-d19594fd0016",
   "metadata": {},
   "source": [
    "# Import thư viện pyvi"
   ]
  },
  {
   "cell_type": "code",
   "execution_count": 3,
   "id": "fa62d85e-2033-4e7a-8d88-a628401a5219",
   "metadata": {},
   "outputs": [],
   "source": [
    "from pyvi import ViTokenizer, ViPosTagger"
   ]
  },
  {
   "cell_type": "markdown",
   "id": "db9dad85-716c-4dbd-b50d-3938d46e2683",
   "metadata": {},
   "source": [
    "# Bảng nguyên âm tiếng Việt và cách mã hóa chúng"
   ]
  },
  {
   "cell_type": "code",
   "execution_count": 4,
   "id": "3214afb3-e1a0-4cf9-b19a-d44b5929be2b",
   "metadata": {},
   "outputs": [],
   "source": [
    "bang_nguyen_am = [['a', 'à', 'á', 'ả', 'ã', 'ạ', 'a'],\n",
    "                  ['ă', 'ằ', 'ắ', 'ẳ', 'ẵ', 'ặ', 'aw'],\n",
    "                  ['â', 'ầ', 'ấ', 'ẩ', 'ẫ', 'ậ', 'aa'],\n",
    "                  ['e', 'è', 'é', 'ẻ', 'ẽ', 'ẹ', 'e'],\n",
    "                  ['ê', 'ề', 'ế', 'ể', 'ễ', 'ệ', 'ee'],\n",
    "                  ['i', 'ì', 'í', 'ỉ', 'ĩ', 'ị', 'i'],\n",
    "                  ['o', 'ò', 'ó', 'ỏ', 'õ', 'ọ', 'o'],\n",
    "                  ['ô', 'ồ', 'ố', 'ổ', 'ỗ', 'ộ', 'oo'],\n",
    "                  ['ơ', 'ờ', 'ớ', 'ở', 'ỡ', 'ợ', 'ow'],\n",
    "                  ['u', 'ù', 'ú', 'ủ', 'ũ', 'ụ', 'u'],\n",
    "                  ['ư', 'ừ', 'ứ', 'ử', 'ữ', 'ự', 'uw'],\n",
    "                  ['y', 'ỳ', 'ý', 'ỷ', 'ỹ', 'ỵ', 'y']]\n",
    "\n",
    "bang_ky_tu_dau = ['', 'f', 's', 'r', 'x', 'j']\n",
    "nguyen_am_to_ids = {}\n",
    "\n",
    "# Ánh xạ nguyên âm và mã hóa dấu\n",
    "for i in range(len(bang_nguyen_am)):\n",
    "    for j in range(len(bang_nguyen_am[i]) - 1):\n",
    "        nguyen_am_to_ids[bang_nguyen_am[i][j]] = (i, j)"
   ]
  }
 ],
 "metadata": {
  "kernelspec": {
   "display_name": "Python 3 (ipykernel)",
   "language": "python",
   "name": "python3"
  },
  "language_info": {
   "codemirror_mode": {
    "name": "ipython",
    "version": 3
   },
   "file_extension": ".py",
   "mimetype": "text/x-python",
   "name": "python",
   "nbconvert_exporter": "python",
   "pygments_lexer": "ipython3",
   "version": "3.11.3"
  }
 },
 "nbformat": 4,
 "nbformat_minor": 5
}
